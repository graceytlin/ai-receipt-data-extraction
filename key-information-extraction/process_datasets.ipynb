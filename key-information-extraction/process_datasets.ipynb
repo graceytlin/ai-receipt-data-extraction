{
 "cells": [
  {
   "cell_type": "markdown",
   "metadata": {},
   "source": [
    "CORD"
   ]
  },
  {
   "cell_type": "code",
   "execution_count": 1,
   "metadata": {},
   "outputs": [],
   "source": [
    "import os\n",
    "import json\n",
    "\n",
    "def normalize_bbox(bbox, width, height):\n",
    "    bbox[0] = int(1000*(bbox[0] / width))\n",
    "    bbox[1] = int(1000*(bbox[1] / height))\n",
    "    bbox[2] = int(1000*(bbox[2] / width))\n",
    "    bbox[3] = int(1000*(bbox[3] / height))\n",
    "\n",
    "    return bbox\n",
    "\n",
    "\n",
    "def generate_annotations(path: str):\n",
    "    files = []\n",
    "\n",
    "    for js in os.listdir(path):\n",
    "        with open(path+js) as f:\n",
    "            files.append(json.load(f))\n",
    "\n",
    "    words = []\n",
    "    boxes = []\n",
    "    labels = []\n",
    "\n",
    "    for js in files:\n",
    "        text = []\n",
    "        box = []\n",
    "        label = []\n",
    "\n",
    "        width, height = js['meta']['image_size']['width'], js['meta']['image_size']['height']\n",
    "\n",
    "        for element in js['valid_line']:\n",
    "            for word in element['words']:\n",
    "                txt = word['text']\n",
    "\n",
    "                x1 = word['quad']['x1']\n",
    "                y1 = word['quad']['y1']\n",
    "                x3 = word['quad']['x3']\n",
    "                y3 = word['quad']['y3']\n",
    "\n",
    "                bbox = [x1, y1, x3, y3]\n",
    "                bbox = normalize_bbox(bbox, width, height)\n",
    "\n",
    "                if len(txt) < 1:\n",
    "                    continue\n",
    "                if min(bbox) < 0 or max(bbox) > 1000:\n",
    "                    continue\n",
    "                if ((bbox[3] - bbox[1]) < 0) or ((bbox[2] - bbox[0]) < 0):\n",
    "                    continue\n",
    "\n",
    "                text.append(txt)\n",
    "                box.append(bbox)\n",
    "                label.append(element['category'])\n",
    "\n",
    "        words.append(text)\n",
    "        boxes.append(box)\n",
    "        labels.append(label)\n",
    "    \n",
    "    return words, boxes, labels\n"
   ]
  },
  {
   "cell_type": "code",
   "execution_count": 2,
   "metadata": {},
   "outputs": [],
   "source": [
    "train_path='Datasets/CORD/train/json/'\n",
    "val_path = 'Datasets/CORD/dev/json/'\n",
    "test_path = 'Datasets/CORD/test/json/'\n",
    "\n",
    "words_train, boxes_train, labels_train = generate_annotations(train_path)\n",
    "words_val, boxes_val, labels_val = generate_annotations(val_path)\n",
    "words_test, boxes_test, labels_test = generate_annotations(test_path)"
   ]
  },
  {
   "cell_type": "code",
   "execution_count": 3,
   "metadata": {},
   "outputs": [],
   "source": [
    "import pickle\n",
    "with open('CORD_train.pkl', 'wb') as t:\n",
    "    pickle.dump([words_train, labels_train, boxes_train], t)\n",
    "with open('CORD_dev.pkl', 'wb') as t:\n",
    "    pickle.dump([words_val, labels_val, boxes_val], t)\n",
    "with open('CORD_test.pkl', 'wb') as t:\n",
    "    pickle.dump([words_test, labels_test, boxes_test], t)"
   ]
  },
  {
   "cell_type": "markdown",
   "metadata": {},
   "source": [
    "Finetuning LayoutLM"
   ]
  },
  {
   "cell_type": "code",
   "execution_count": null,
   "metadata": {},
   "outputs": [],
   "source": [
    "from transformers import LayoutLMv2Processor\n",
    "from PIL import Image\n",
    "\n",
    "processor = LayoutLMv2Processor.from_pretrained(\"microsoft/layoutlmv2-base-uncased\", revision='no-ocr')\n",
    "\n",
    "image = Image.open()"
   ]
  },
  {
   "cell_type": "code",
   "execution_count": null,
   "metadata": {},
   "outputs": [],
   "source": []
  }
 ],
 "metadata": {
  "interpreter": {
   "hash": "408e81de9eeeb8935f556c0e004210cf98e7352eeb3cd72dba75a80655973dfe"
  },
  "kernelspec": {
   "display_name": "Python 3.9.12 ('ocr_env')",
   "language": "python",
   "name": "python3"
  },
  "language_info": {
   "codemirror_mode": {
    "name": "ipython",
    "version": 3
   },
   "file_extension": ".py",
   "mimetype": "text/x-python",
   "name": "python",
   "nbconvert_exporter": "python",
   "pygments_lexer": "ipython3",
   "version": "3.9.12"
  },
  "orig_nbformat": 4
 },
 "nbformat": 4,
 "nbformat_minor": 2
}
