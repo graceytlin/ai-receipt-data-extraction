{
 "cells": [
  {
   "cell_type": "code",
   "execution_count": 1,
   "metadata": {},
   "outputs": [],
   "source": [
    "from sklearn.preprocessing import LabelEncoder\n",
    "from sklearn.model_selection import train_test_split\n",
    "import numpy as np\n",
    "from keras.utils import np_utils\n",
    "import keras.layers as l\n",
    "from keras.initializers import TruncatedNormal\n",
    "from keras.models import Model\n",
    "import tensorflow as tf\n",
    "\n",
    "def split_dataset(df):\n",
    "    train, test= train_test_split(df, test_size=0.2, random_state=88)\n",
    "\n",
    "    return train, test\n",
    "    \n",
    "\n",
    "def create_one_hot_labels(Y_train, Y_test, labels):\n",
    "    encoder = LabelEncoder()\n",
    "    encoder.fit(labels)\n",
    "\n",
    "    Y_train = encoder.transform(Y_train)\n",
    "    Y_test = encoder.transform(Y_test)\n",
    "\n",
    "    n_classes = np.max(Y_train) + 1\n",
    "\n",
    "    Y_train = np_utils.to_categorical(Y_train, n_classes)\n",
    "    Y_test = np_utils.to_categorical(Y_test, n_classes)\n",
    "\n",
    "    return Y_train, Y_test, n_classes"
   ]
  },
  {
   "cell_type": "markdown",
   "metadata": {},
   "source": [
    "Get data"
   ]
  },
  {
   "cell_type": "code",
   "execution_count": 2,
   "metadata": {},
   "outputs": [],
   "source": [
    "import pandas as pd\n",
    "\n",
    "amazon_data = pd.read_csv(\"../cleaned/amazon-cleaned.csv\",index_col=0)\n",
    "amazon_labels = amazon_data.category.unique()\n",
    "\n",
    "shopmania_data = pd.read_csv(\"../cleaned/shopmania-cleaned.csv\", index_col=0)\n",
    "shopmania_labels = shopmania_data.category.unique()\n",
    "\n",
    "custom_data = pd.read_csv(\"../cleaned/custom-cleaned.csv\", index_col=0)\n",
    "custom_labels = custom_data.category.unique()\n",
    "\n",
    "datasets = {'amazon': [amazon_data.copy(), amazon_labels], 'shopmania': [shopmania_data.copy(), shopmania_labels], 'custom': [custom_data.copy(), custom_labels]}"
   ]
  },
  {
   "cell_type": "code",
   "execution_count": 3,
   "metadata": {},
   "outputs": [],
   "source": [
    "amazon_data = amazon_data.dropna()"
   ]
  },
  {
   "cell_type": "code",
   "execution_count": 4,
   "metadata": {},
   "outputs": [],
   "source": [
    "shopmania_data = shopmania_data.dropna()"
   ]
  },
  {
   "cell_type": "code",
   "execution_count": 5,
   "metadata": {},
   "outputs": [],
   "source": [
    "custom_data = custom_data.dropna()"
   ]
  },
  {
   "cell_type": "code",
   "execution_count": 6,
   "metadata": {},
   "outputs": [
    {
     "data": {
      "text/html": [
       "<div>\n",
       "<style scoped>\n",
       "    .dataframe tbody tr th:only-of-type {\n",
       "        vertical-align: middle;\n",
       "    }\n",
       "\n",
       "    .dataframe tbody tr th {\n",
       "        vertical-align: top;\n",
       "    }\n",
       "\n",
       "    .dataframe thead th {\n",
       "        text-align: right;\n",
       "    }\n",
       "</style>\n",
       "<table border=\"1\" class=\"dataframe\">\n",
       "  <thead>\n",
       "    <tr style=\"text-align: right;\">\n",
       "      <th></th>\n",
       "      <th>item_name</th>\n",
       "      <th>category</th>\n",
       "    </tr>\n",
       "  </thead>\n",
       "  <tbody>\n",
       "    <tr>\n",
       "      <th>5008</th>\n",
       "      <td>ameriphone ttyvcohco machine for cellcordless ...</td>\n",
       "      <td>landline_phones</td>\n",
       "    </tr>\n",
       "    <tr>\n",
       "      <th>878</th>\n",
       "      <td>erayak vv a automatic battery charger car main...</td>\n",
       "      <td>battery_chargers</td>\n",
       "    </tr>\n",
       "    <tr>\n",
       "      <th>9398</th>\n",
       "      <td>samsung galaxy s i gb unlocked gsm g lte andro...</td>\n",
       "      <td>unlocked_cell_phones</td>\n",
       "    </tr>\n",
       "  </tbody>\n",
       "</table>\n",
       "</div>"
      ],
      "text/plain": [
       "                                              item_name              category\n",
       "5008  ameriphone ttyvcohco machine for cellcordless ...       landline_phones\n",
       "878   erayak vv a automatic battery charger car main...      battery_chargers\n",
       "9398  samsung galaxy s i gb unlocked gsm g lte andro...  unlocked_cell_phones"
      ]
     },
     "execution_count": 6,
     "metadata": {},
     "output_type": "execute_result"
    }
   ],
   "source": [
    "amazon_data.sample(3)"
   ]
  },
  {
   "cell_type": "code",
   "execution_count": 7,
   "metadata": {},
   "outputs": [
    {
     "data": {
      "text/html": [
       "<div>\n",
       "<style scoped>\n",
       "    .dataframe tbody tr th:only-of-type {\n",
       "        vertical-align: middle;\n",
       "    }\n",
       "\n",
       "    .dataframe tbody tr th {\n",
       "        vertical-align: top;\n",
       "    }\n",
       "\n",
       "    .dataframe thead th {\n",
       "        text-align: right;\n",
       "    }\n",
       "</style>\n",
       "<table border=\"1\" class=\"dataframe\">\n",
       "  <thead>\n",
       "    <tr style=\"text-align: right;\">\n",
       "      <th></th>\n",
       "      <th>item_name</th>\n",
       "      <th>category</th>\n",
       "    </tr>\n",
       "  </thead>\n",
       "  <tbody>\n",
       "    <tr>\n",
       "      <th>4537</th>\n",
       "      <td>allen heath gl</td>\n",
       "      <td>Audio / DJ Equipment</td>\n",
       "    </tr>\n",
       "    <tr>\n",
       "      <th>174</th>\n",
       "      <td>baby gap outlet long sleeve turtleneck size t ...</td>\n",
       "      <td>Crafts</td>\n",
       "    </tr>\n",
       "    <tr>\n",
       "      <th>6036</th>\n",
       "      <td>task essential skin feed active moisturizer  m...</td>\n",
       "      <td>Men Cosmetics</td>\n",
       "    </tr>\n",
       "  </tbody>\n",
       "</table>\n",
       "</div>"
      ],
      "text/plain": [
       "                                              item_name              category\n",
       "4537                                    allen heath gl   Audio / DJ Equipment\n",
       "174   baby gap outlet long sleeve turtleneck size t ...                Crafts\n",
       "6036  task essential skin feed active moisturizer  m...         Men Cosmetics"
      ]
     },
     "execution_count": 7,
     "metadata": {},
     "output_type": "execute_result"
    }
   ],
   "source": [
    "shopmania_data.sample(3)"
   ]
  },
  {
   "cell_type": "code",
   "execution_count": 8,
   "metadata": {},
   "outputs": [
    {
     "data": {
      "text/html": [
       "<div>\n",
       "<style scoped>\n",
       "    .dataframe tbody tr th:only-of-type {\n",
       "        vertical-align: middle;\n",
       "    }\n",
       "\n",
       "    .dataframe tbody tr th {\n",
       "        vertical-align: top;\n",
       "    }\n",
       "\n",
       "    .dataframe thead th {\n",
       "        text-align: right;\n",
       "    }\n",
       "</style>\n",
       "<table border=\"1\" class=\"dataframe\">\n",
       "  <thead>\n",
       "    <tr style=\"text-align: right;\">\n",
       "      <th></th>\n",
       "      <th>store_name</th>\n",
       "      <th>item_name</th>\n",
       "      <th>category</th>\n",
       "    </tr>\n",
       "  </thead>\n",
       "  <tbody>\n",
       "    <tr>\n",
       "      <th>496.0</th>\n",
       "      <td>LiDL</td>\n",
       "      <td>tenderstem broccoli</td>\n",
       "      <td>groceries</td>\n",
       "    </tr>\n",
       "    <tr>\n",
       "      <th>408.0</th>\n",
       "      <td>TEA TERRACE</td>\n",
       "      <td>cream tea for</td>\n",
       "      <td>eating out</td>\n",
       "    </tr>\n",
       "    <tr>\n",
       "      <th>8.0</th>\n",
       "      <td>TESCO</td>\n",
       "      <td>cc butternut soup</td>\n",
       "      <td>groceries</td>\n",
       "    </tr>\n",
       "  </tbody>\n",
       "</table>\n",
       "</div>"
      ],
      "text/plain": [
       "        store_name            item_name    category\n",
       "496.0         LiDL  tenderstem broccoli   groceries\n",
       "408.0  TEA TERRACE       cream tea for   eating out\n",
       "8.0          TESCO    cc butternut soup   groceries"
      ]
     },
     "execution_count": 8,
     "metadata": {},
     "output_type": "execute_result"
    }
   ],
   "source": [
    "custom_data.sample(3)"
   ]
  },
  {
   "cell_type": "code",
   "execution_count": 6,
   "metadata": {},
   "outputs": [
    {
     "name": "stderr",
     "output_type": "stream",
     "text": [
      "c:\\Users\\grace\\.conda\\envs\\FYP\\lib\\site-packages\\tqdm\\auto.py:22: TqdmWarning: IProgress not found. Please update jupyter and ipywidgets. See https://ipywidgets.readthedocs.io/en/stable/user_install.html\n",
      "  from .autonotebook import tqdm as notebook_tqdm\n"
     ]
    }
   ],
   "source": [
    "from transformers import TFBertModel, BertConfig, BertTokenizerFast"
   ]
  },
  {
   "cell_type": "code",
   "execution_count": 7,
   "metadata": {},
   "outputs": [],
   "source": [
    "model_name = 'bert-base-uncased'\n",
    "\n",
    "max_len = 100\n",
    "\n",
    "config = BertConfig.from_pretrained(model_name)\n",
    "config.output_hidden_states = False"
   ]
  },
  {
   "cell_type": "code",
   "execution_count": 14,
   "metadata": {},
   "outputs": [],
   "source": [
    "def bert(df, d_labels):\n",
    "    tokenizer = BertTokenizerFast.from_pretrained(pretrained_model_name_or_path=model_name, config=config)\n",
    "\n",
    "    transformer_model = TFBertModel.from_pretrained(model_name, config = config)\n",
    "    \n",
    "    bert = transformer_model.layers[0]\n",
    "\n",
    "    input_ids = l.Input(shape=(24,), name=\"inputs\", dtype='int32')\n",
    "    inputs = {'input_ids': input_ids}\n",
    "\n",
    "    bert_model = bert(inputs)[1]\n",
    "\n",
    "    dropout = l.Dropout(config.hidden_dropout_prob, name='pooled_output')\n",
    "    pooled_output = dropout(bert_model, training=False)\n",
    "\n",
    "    category = l.Dense(\n",
    "        units=len(df.category.value_counts()),\n",
    "        kernel_initializer=TruncatedNormal(stddev=config.initializer_range),\n",
    "        name = 'category'\n",
    "        )(pooled_output)\n",
    "\n",
    "    outputs= {'category': category}\n",
    "    model = Model(inputs=inputs, outputs=outputs, name=\"BERT_multilabel\")\n",
    "\n",
    "    X_train, X_test = split_dataset(df)\n",
    "    Y_train, Y_test, n_classes = create_one_hot_labels(X_train['category'], X_test['category'], d_labels)\n",
    "\n",
    "    x = tokenizer(\n",
    "        text=X_train['item_name'].astype(str).to_list(),\n",
    "        add_special_tokens = True,\n",
    "        max_length = 24,\n",
    "        truncation = True,\n",
    "        padding = True,\n",
    "        return_tensors='tf',\n",
    "        return_token_type_ids = False,\n",
    "        return_attention_mask = False,\n",
    "        verbose=True\n",
    "    )\n",
    "\n",
    "    optimizer = tf.keras.optimizers.Adam(\n",
    "        learning_rate=5e-05,\n",
    "        epsilon=1e-08,\n",
    "        decay=0.01,\n",
    "        clipnorm=1.0\n",
    "    )\n",
    "\n",
    "    loss = {'category': tf.keras.losses.CategoricalCrossentropy(from_logits = True)}\n",
    "    metric = {'category': tf.keras.metrics.CategoricalAccuracy('accuracy')}\n",
    "\n",
    "    model.compile(\n",
    "        optimizer = optimizer,\n",
    "        loss = loss, \n",
    "        metrics = metric\n",
    "    )\n",
    "\n",
    "    history = model.fit(\n",
    "        x={'input_ids': x['input_ids']},\n",
    "        y={'category': Y_train},\n",
    "        validation_split=0.2,\n",
    "        batch_size=20,\n",
    "        epochs=30\n",
    "    )\n",
    "\n",
    "    return history"
   ]
  },
  {
   "cell_type": "code",
   "execution_count": 8,
   "metadata": {},
   "outputs": [],
   "source": [
    "histories = []"
   ]
  },
  {
   "cell_type": "code",
   "execution_count": 15,
   "metadata": {},
   "outputs": [
    {
     "name": "stderr",
     "output_type": "stream",
     "text": [
      "Some layers from the model checkpoint at bert-base-uncased were not used when initializing TFBertModel: ['nsp___cls', 'mlm___cls']\n",
      "- This IS expected if you are initializing TFBertModel from the checkpoint of a model trained on another task or with another architecture (e.g. initializing a BertForSequenceClassification model from a BertForPreTraining model).\n",
      "- This IS NOT expected if you are initializing TFBertModel from the checkpoint of a model that you expect to be exactly identical (initializing a BertForSequenceClassification model from a BertForSequenceClassification model).\n",
      "All the layers of TFBertModel were initialized from the model checkpoint at bert-base-uncased.\n",
      "If your task is similar to the task the model of the checkpoint was trained on, you can already use TFBertModel for predictions without further training.\n"
     ]
    },
    {
     "name": "stdout",
     "output_type": "stream",
     "text": [
      "Epoch 1/30\n",
      "320/320 [==============================] - 33s 78ms/step - loss: 3.8210 - accuracy: 0.3319 - val_loss: 2.9770 - val_accuracy: 0.6119\n",
      "Epoch 2/30\n",
      "320/320 [==============================] - 24s 76ms/step - loss: 2.6589 - accuracy: 0.6888 - val_loss: 2.3454 - val_accuracy: 0.7131\n",
      "Epoch 3/30\n",
      "320/320 [==============================] - 24s 76ms/step - loss: 2.1602 - accuracy: 0.7697 - val_loss: 2.0105 - val_accuracy: 0.7494\n",
      "Epoch 4/30\n",
      "320/320 [==============================] - 24s 76ms/step - loss: 1.8653 - accuracy: 0.8100 - val_loss: 1.7980 - val_accuracy: 0.7775\n",
      "Epoch 5/30\n",
      "320/320 [==============================] - 24s 76ms/step - loss: 1.6631 - accuracy: 0.8333 - val_loss: 1.6464 - val_accuracy: 0.7887\n",
      "Epoch 6/30\n",
      "320/320 [==============================] - 24s 76ms/step - loss: 1.5102 - accuracy: 0.8494 - val_loss: 1.5366 - val_accuracy: 0.8031\n",
      "Epoch 7/30\n",
      "320/320 [==============================] - 24s 76ms/step - loss: 1.3942 - accuracy: 0.8564 - val_loss: 1.4489 - val_accuracy: 0.8087\n",
      "Epoch 8/30\n",
      "320/320 [==============================] - 24s 76ms/step - loss: 1.2983 - accuracy: 0.8730 - val_loss: 1.3785 - val_accuracy: 0.8075\n",
      "Epoch 9/30\n",
      "320/320 [==============================] - 24s 76ms/step - loss: 1.2210 - accuracy: 0.8777 - val_loss: 1.3178 - val_accuracy: 0.8194\n",
      "Epoch 10/30\n",
      "320/320 [==============================] - 24s 76ms/step - loss: 1.1574 - accuracy: 0.8820 - val_loss: 1.2682 - val_accuracy: 0.8194\n",
      "Epoch 11/30\n",
      "320/320 [==============================] - 24s 76ms/step - loss: 1.0984 - accuracy: 0.8867 - val_loss: 1.2290 - val_accuracy: 0.8238\n",
      "Epoch 12/30\n",
      "320/320 [==============================] - 24s 76ms/step - loss: 1.0502 - accuracy: 0.8919 - val_loss: 1.1916 - val_accuracy: 0.8238\n",
      "Epoch 13/30\n",
      "320/320 [==============================] - 24s 76ms/step - loss: 1.0056 - accuracy: 0.8983 - val_loss: 1.1610 - val_accuracy: 0.8256\n",
      "Epoch 14/30\n",
      "320/320 [==============================] - 24s 76ms/step - loss: 0.9689 - accuracy: 0.9014 - val_loss: 1.1318 - val_accuracy: 0.8288\n",
      "Epoch 15/30\n",
      "320/320 [==============================] - 24s 76ms/step - loss: 0.9338 - accuracy: 0.9022 - val_loss: 1.1056 - val_accuracy: 0.8294\n",
      "Epoch 16/30\n",
      "320/320 [==============================] - 24s 76ms/step - loss: 0.9034 - accuracy: 0.9061 - val_loss: 1.0838 - val_accuracy: 0.8300\n",
      "Epoch 17/30\n",
      "320/320 [==============================] - 24s 76ms/step - loss: 0.8748 - accuracy: 0.9095 - val_loss: 1.0635 - val_accuracy: 0.8319\n",
      "Epoch 18/30\n",
      "320/320 [==============================] - 24s 76ms/step - loss: 0.8494 - accuracy: 0.9098 - val_loss: 1.0454 - val_accuracy: 0.8350\n",
      "Epoch 19/30\n",
      "320/320 [==============================] - 24s 76ms/step - loss: 0.8242 - accuracy: 0.9150 - val_loss: 1.0288 - val_accuracy: 0.8350\n",
      "Epoch 20/30\n",
      "320/320 [==============================] - 24s 76ms/step - loss: 0.8038 - accuracy: 0.9119 - val_loss: 1.0122 - val_accuracy: 0.8344\n",
      "Epoch 21/30\n",
      "320/320 [==============================] - 24s 76ms/step - loss: 0.7843 - accuracy: 0.9195 - val_loss: 0.9991 - val_accuracy: 0.8356\n",
      "Epoch 22/30\n",
      "320/320 [==============================] - 24s 76ms/step - loss: 0.7638 - accuracy: 0.9194 - val_loss: 0.9865 - val_accuracy: 0.8356\n",
      "Epoch 23/30\n",
      "320/320 [==============================] - 24s 76ms/step - loss: 0.7441 - accuracy: 0.9258 - val_loss: 0.9744 - val_accuracy: 0.8375\n",
      "Epoch 24/30\n",
      "320/320 [==============================] - 24s 76ms/step - loss: 0.7297 - accuracy: 0.9219 - val_loss: 0.9633 - val_accuracy: 0.8363\n",
      "Epoch 25/30\n",
      "320/320 [==============================] - 24s 76ms/step - loss: 0.7133 - accuracy: 0.9262 - val_loss: 0.9535 - val_accuracy: 0.8350\n",
      "Epoch 26/30\n",
      "320/320 [==============================] - 24s 76ms/step - loss: 0.6971 - accuracy: 0.9277 - val_loss: 0.9422 - val_accuracy: 0.8375\n",
      "Epoch 27/30\n",
      "320/320 [==============================] - 24s 76ms/step - loss: 0.6850 - accuracy: 0.9303 - val_loss: 0.9330 - val_accuracy: 0.8394\n",
      "Epoch 28/30\n",
      "320/320 [==============================] - 24s 76ms/step - loss: 0.6719 - accuracy: 0.9297 - val_loss: 0.9245 - val_accuracy: 0.8375\n",
      "Epoch 29/30\n",
      "320/320 [==============================] - 24s 76ms/step - loss: 0.6588 - accuracy: 0.9319 - val_loss: 0.9165 - val_accuracy: 0.8400\n",
      "Epoch 30/30\n",
      "320/320 [==============================] - 24s 76ms/step - loss: 0.6450 - accuracy: 0.9328 - val_loss: 0.9090 - val_accuracy: 0.8413\n",
      "amazon\n",
      "[[0.8412500023841858, 0.9090205430984497]]\n"
     ]
    },
    {
     "name": "stderr",
     "output_type": "stream",
     "text": [
      "Some layers from the model checkpoint at bert-base-uncased were not used when initializing TFBertModel: ['nsp___cls', 'mlm___cls']\n",
      "- This IS expected if you are initializing TFBertModel from the checkpoint of a model trained on another task or with another architecture (e.g. initializing a BertForSequenceClassification model from a BertForPreTraining model).\n",
      "- This IS NOT expected if you are initializing TFBertModel from the checkpoint of a model that you expect to be exactly identical (initializing a BertForSequenceClassification model from a BertForSequenceClassification model).\n",
      "All the layers of TFBertModel were initialized from the model checkpoint at bert-base-uncased.\n",
      "If your task is similar to the task the model of the checkpoint was trained on, you can already use TFBertModel for predictions without further training.\n"
     ]
    },
    {
     "name": "stdout",
     "output_type": "stream",
     "text": [
      "Epoch 1/30\n",
      "359/359 [==============================] - 45s 95ms/step - loss: 4.6317 - accuracy: 0.1398 - val_loss: 4.0726 - val_accuracy: 0.3411\n",
      "Epoch 2/30\n",
      "359/359 [==============================] - 33s 91ms/step - loss: 3.8390 - accuracy: 0.4158 - val_loss: 3.6010 - val_accuracy: 0.4593\n",
      "Epoch 3/30\n",
      "359/359 [==============================] - 33s 91ms/step - loss: 3.4448 - accuracy: 0.5160 - val_loss: 3.3225 - val_accuracy: 0.5078\n",
      "Epoch 4/30\n",
      "359/359 [==============================] - 33s 92ms/step - loss: 3.1925 - accuracy: 0.5660 - val_loss: 3.1299 - val_accuracy: 0.5446\n",
      "Epoch 5/30\n",
      "359/359 [==============================] - 33s 91ms/step - loss: 3.0104 - accuracy: 0.5915 - val_loss: 2.9867 - val_accuracy: 0.5602\n",
      "Epoch 6/30\n",
      "359/359 [==============================] - 33s 91ms/step - loss: 2.8642 - accuracy: 0.6136 - val_loss: 2.8728 - val_accuracy: 0.5792\n",
      "Epoch 7/30\n",
      "359/359 [==============================] - 33s 91ms/step - loss: 2.7436 - accuracy: 0.6382 - val_loss: 2.7798 - val_accuracy: 0.5870\n",
      "Epoch 8/30\n",
      "359/359 [==============================] - 32s 90ms/step - loss: 2.6470 - accuracy: 0.6496 - val_loss: 2.7031 - val_accuracy: 0.5936\n",
      "Epoch 9/30\n",
      "359/359 [==============================] - 33s 91ms/step - loss: 2.5618 - accuracy: 0.6637 - val_loss: 2.6382 - val_accuracy: 0.5970\n",
      "Epoch 10/30\n",
      "359/359 [==============================] - 33s 91ms/step - loss: 2.4887 - accuracy: 0.6704 - val_loss: 2.5815 - val_accuracy: 0.6031\n",
      "Epoch 11/30\n",
      "359/359 [==============================] - 33s 91ms/step - loss: 2.4207 - accuracy: 0.6807 - val_loss: 2.5304 - val_accuracy: 0.6093\n",
      "Epoch 12/30\n",
      "359/359 [==============================] - 32s 91ms/step - loss: 2.3661 - accuracy: 0.6853 - val_loss: 2.4841 - val_accuracy: 0.6182\n",
      "Epoch 13/30\n",
      "359/359 [==============================] - 33s 91ms/step - loss: 2.3140 - accuracy: 0.6945 - val_loss: 2.4423 - val_accuracy: 0.6232\n",
      "Epoch 14/30\n",
      "359/359 [==============================] - 33s 91ms/step - loss: 2.2661 - accuracy: 0.7065 - val_loss: 2.4057 - val_accuracy: 0.6221\n",
      "Epoch 15/30\n",
      "359/359 [==============================] - 33s 91ms/step - loss: 2.2218 - accuracy: 0.7097 - val_loss: 2.3707 - val_accuracy: 0.6243\n",
      "Epoch 16/30\n",
      "359/359 [==============================] - 32s 90ms/step - loss: 2.1787 - accuracy: 0.7121 - val_loss: 2.3408 - val_accuracy: 0.6282\n",
      "Epoch 17/30\n",
      "359/359 [==============================] - 33s 91ms/step - loss: 2.1418 - accuracy: 0.7165 - val_loss: 2.3109 - val_accuracy: 0.6310\n",
      "Epoch 18/30\n",
      "359/359 [==============================] - 33s 91ms/step - loss: 2.1096 - accuracy: 0.7204 - val_loss: 2.2840 - val_accuracy: 0.6304\n",
      "Epoch 19/30\n",
      "359/359 [==============================] - 33s 91ms/step - loss: 2.0760 - accuracy: 0.7249 - val_loss: 2.2579 - val_accuracy: 0.6355\n",
      "Epoch 20/30\n",
      "359/359 [==============================] - 33s 91ms/step - loss: 2.0457 - accuracy: 0.7302 - val_loss: 2.2356 - val_accuracy: 0.6355\n",
      "Epoch 21/30\n",
      "359/359 [==============================] - 33s 91ms/step - loss: 2.0177 - accuracy: 0.7334 - val_loss: 2.2126 - val_accuracy: 0.6388\n",
      "Epoch 22/30\n",
      "359/359 [==============================] - 33s 91ms/step - loss: 1.9903 - accuracy: 0.7341 - val_loss: 2.1919 - val_accuracy: 0.6433\n",
      "Epoch 23/30\n",
      "359/359 [==============================] - 33s 91ms/step - loss: 1.9625 - accuracy: 0.7418 - val_loss: 2.1750 - val_accuracy: 0.6416\n",
      "Epoch 24/30\n",
      "359/359 [==============================] - 33s 91ms/step - loss: 1.9398 - accuracy: 0.7419 - val_loss: 2.1549 - val_accuracy: 0.6449\n",
      "Epoch 25/30\n",
      "359/359 [==============================] - 33s 91ms/step - loss: 1.9163 - accuracy: 0.7475 - val_loss: 2.1374 - val_accuracy: 0.6472\n",
      "Epoch 26/30\n",
      "359/359 [==============================] - 32s 90ms/step - loss: 1.8955 - accuracy: 0.7478 - val_loss: 2.1200 - val_accuracy: 0.6466\n",
      "Epoch 27/30\n",
      "359/359 [==============================] - 33s 91ms/step - loss: 1.8740 - accuracy: 0.7526 - val_loss: 2.1056 - val_accuracy: 0.6472\n",
      "Epoch 28/30\n",
      "359/359 [==============================] - 33s 91ms/step - loss: 1.8548 - accuracy: 0.7543 - val_loss: 2.0898 - val_accuracy: 0.6511\n",
      "Epoch 29/30\n",
      "359/359 [==============================] - 33s 91ms/step - loss: 1.8378 - accuracy: 0.7556 - val_loss: 2.0754 - val_accuracy: 0.6533\n",
      "Epoch 30/30\n",
      "359/359 [==============================] - 33s 91ms/step - loss: 1.8186 - accuracy: 0.7628 - val_loss: 2.0612 - val_accuracy: 0.6555\n",
      "shopmania\n",
      "[[0.6555184125900269, 2.0611867904663086]]\n"
     ]
    },
    {
     "name": "stderr",
     "output_type": "stream",
     "text": [
      "Some layers from the model checkpoint at bert-base-uncased were not used when initializing TFBertModel: ['nsp___cls', 'mlm___cls']\n",
      "- This IS expected if you are initializing TFBertModel from the checkpoint of a model trained on another task or with another architecture (e.g. initializing a BertForSequenceClassification model from a BertForPreTraining model).\n",
      "- This IS NOT expected if you are initializing TFBertModel from the checkpoint of a model that you expect to be exactly identical (initializing a BertForSequenceClassification model from a BertForSequenceClassification model).\n",
      "All the layers of TFBertModel were initialized from the model checkpoint at bert-base-uncased.\n",
      "If your task is similar to the task the model of the checkpoint was trained on, you can already use TFBertModel for predictions without further training.\n"
     ]
    },
    {
     "name": "stdout",
     "output_type": "stream",
     "text": [
      "Epoch 1/30\n"
     ]
    },
    {
     "ename": "ValueError",
     "evalue": "in user code:\n\n    File \"c:\\Users\\grace\\.conda\\envs\\FYP\\lib\\site-packages\\keras\\engine\\training.py\", line 1021, in train_function  *\n        return step_function(self, iterator)\n    File \"c:\\Users\\grace\\.conda\\envs\\FYP\\lib\\site-packages\\keras\\engine\\training.py\", line 1010, in step_function  **\n        outputs = model.distribute_strategy.run(run_step, args=(data,))\n    File \"c:\\Users\\grace\\.conda\\envs\\FYP\\lib\\site-packages\\keras\\engine\\training.py\", line 1000, in run_step  **\n        outputs = model.train_step(data)\n    File \"c:\\Users\\grace\\.conda\\envs\\FYP\\lib\\site-packages\\keras\\engine\\training.py\", line 859, in train_step\n        y_pred = self(x, training=True)\n    File \"c:\\Users\\grace\\.conda\\envs\\FYP\\lib\\site-packages\\keras\\utils\\traceback_utils.py\", line 67, in error_handler\n        raise e.with_traceback(filtered_tb) from None\n    File \"c:\\Users\\grace\\.conda\\envs\\FYP\\lib\\site-packages\\keras\\engine\\input_spec.py\", line 264, in assert_input_compatibility\n        raise ValueError(f'Input {input_index} of layer \"{layer_name}\" is '\n\n    ValueError: Input 0 of layer \"BERT_multilabel\" is incompatible with the layer: expected shape=(None, 24), found shape=(20, 15)\n",
     "output_type": "error",
     "traceback": [
      "\u001b[1;31m---------------------------------------------------------------------------\u001b[0m",
      "\u001b[1;31mValueError\u001b[0m                                Traceback (most recent call last)",
      "\u001b[1;32md:\\University\\FYP\\final\\BERT.ipynb Cell 14'\u001b[0m in \u001b[0;36m<cell line: 1>\u001b[1;34m()\u001b[0m\n\u001b[0;32m      <a href='vscode-notebook-cell:/d%3A/University/FYP/final/BERT.ipynb#ch0000014?line=0'>1</a>\u001b[0m \u001b[39mfor\u001b[39;00m key, dataset \u001b[39min\u001b[39;00m datasets\u001b[39m.\u001b[39mitems():\n\u001b[1;32m----> <a href='vscode-notebook-cell:/d%3A/University/FYP/final/BERT.ipynb#ch0000014?line=1'>2</a>\u001b[0m     history \u001b[39m=\u001b[39m bert(dataset[\u001b[39m0\u001b[39;49m], dataset[\u001b[39m1\u001b[39;49m])\n\u001b[0;32m      <a href='vscode-notebook-cell:/d%3A/University/FYP/final/BERT.ipynb#ch0000014?line=3'>4</a>\u001b[0m     metrics \u001b[39m=\u001b[39m [[history\u001b[39m.\u001b[39mhistory[\u001b[39m'\u001b[39m\u001b[39mval_accuracy\u001b[39m\u001b[39m'\u001b[39m][\u001b[39m-\u001b[39m\u001b[39m1\u001b[39m], history\u001b[39m.\u001b[39mhistory[\u001b[39m'\u001b[39m\u001b[39mval_loss\u001b[39m\u001b[39m'\u001b[39m][\u001b[39m-\u001b[39m\u001b[39m1\u001b[39m]]]\n\u001b[0;32m      <a href='vscode-notebook-cell:/d%3A/University/FYP/final/BERT.ipynb#ch0000014?line=5'>6</a>\u001b[0m     histories\u001b[39m.\u001b[39mappend(history)\n",
      "\u001b[1;32md:\\University\\FYP\\final\\BERT.ipynb Cell 12'\u001b[0m in \u001b[0;36mbert\u001b[1;34m(df, d_labels)\u001b[0m\n\u001b[0;32m     <a href='vscode-notebook-cell:/d%3A/University/FYP/final/BERT.ipynb#ch0000012?line=47'>48</a>\u001b[0m metric \u001b[39m=\u001b[39m {\u001b[39m'\u001b[39m\u001b[39mcategory\u001b[39m\u001b[39m'\u001b[39m: tf\u001b[39m.\u001b[39mkeras\u001b[39m.\u001b[39mmetrics\u001b[39m.\u001b[39mCategoricalAccuracy(\u001b[39m'\u001b[39m\u001b[39maccuracy\u001b[39m\u001b[39m'\u001b[39m)}\n\u001b[0;32m     <a href='vscode-notebook-cell:/d%3A/University/FYP/final/BERT.ipynb#ch0000012?line=49'>50</a>\u001b[0m model\u001b[39m.\u001b[39mcompile(\n\u001b[0;32m     <a href='vscode-notebook-cell:/d%3A/University/FYP/final/BERT.ipynb#ch0000012?line=50'>51</a>\u001b[0m     optimizer \u001b[39m=\u001b[39m optimizer,\n\u001b[0;32m     <a href='vscode-notebook-cell:/d%3A/University/FYP/final/BERT.ipynb#ch0000012?line=51'>52</a>\u001b[0m     loss \u001b[39m=\u001b[39m loss, \n\u001b[0;32m     <a href='vscode-notebook-cell:/d%3A/University/FYP/final/BERT.ipynb#ch0000012?line=52'>53</a>\u001b[0m     metrics \u001b[39m=\u001b[39m metric\n\u001b[0;32m     <a href='vscode-notebook-cell:/d%3A/University/FYP/final/BERT.ipynb#ch0000012?line=53'>54</a>\u001b[0m )\n\u001b[1;32m---> <a href='vscode-notebook-cell:/d%3A/University/FYP/final/BERT.ipynb#ch0000012?line=55'>56</a>\u001b[0m history \u001b[39m=\u001b[39m model\u001b[39m.\u001b[39;49mfit(\n\u001b[0;32m     <a href='vscode-notebook-cell:/d%3A/University/FYP/final/BERT.ipynb#ch0000012?line=56'>57</a>\u001b[0m     x\u001b[39m=\u001b[39;49m{\u001b[39m'\u001b[39;49m\u001b[39minput_ids\u001b[39;49m\u001b[39m'\u001b[39;49m: x[\u001b[39m'\u001b[39;49m\u001b[39minput_ids\u001b[39;49m\u001b[39m'\u001b[39;49m]},\n\u001b[0;32m     <a href='vscode-notebook-cell:/d%3A/University/FYP/final/BERT.ipynb#ch0000012?line=57'>58</a>\u001b[0m     y\u001b[39m=\u001b[39;49m{\u001b[39m'\u001b[39;49m\u001b[39mcategory\u001b[39;49m\u001b[39m'\u001b[39;49m: Y_train},\n\u001b[0;32m     <a href='vscode-notebook-cell:/d%3A/University/FYP/final/BERT.ipynb#ch0000012?line=58'>59</a>\u001b[0m     validation_split\u001b[39m=\u001b[39;49m\u001b[39m0.2\u001b[39;49m,\n\u001b[0;32m     <a href='vscode-notebook-cell:/d%3A/University/FYP/final/BERT.ipynb#ch0000012?line=59'>60</a>\u001b[0m     batch_size\u001b[39m=\u001b[39;49m\u001b[39m20\u001b[39;49m,\n\u001b[0;32m     <a href='vscode-notebook-cell:/d%3A/University/FYP/final/BERT.ipynb#ch0000012?line=60'>61</a>\u001b[0m     epochs\u001b[39m=\u001b[39;49m\u001b[39m30\u001b[39;49m\n\u001b[0;32m     <a href='vscode-notebook-cell:/d%3A/University/FYP/final/BERT.ipynb#ch0000012?line=61'>62</a>\u001b[0m )\n\u001b[0;32m     <a href='vscode-notebook-cell:/d%3A/University/FYP/final/BERT.ipynb#ch0000012?line=63'>64</a>\u001b[0m \u001b[39mreturn\u001b[39;00m history\n",
      "File \u001b[1;32mc:\\Users\\grace\\.conda\\envs\\FYP\\lib\\site-packages\\keras\\utils\\traceback_utils.py:67\u001b[0m, in \u001b[0;36mfilter_traceback.<locals>.error_handler\u001b[1;34m(*args, **kwargs)\u001b[0m\n\u001b[0;32m     <a href='file:///c%3A/Users/grace/.conda/envs/FYP/lib/site-packages/keras/utils/traceback_utils.py?line=64'>65</a>\u001b[0m \u001b[39mexcept\u001b[39;00m \u001b[39mException\u001b[39;00m \u001b[39mas\u001b[39;00m e:  \u001b[39m# pylint: disable=broad-except\u001b[39;00m\n\u001b[0;32m     <a href='file:///c%3A/Users/grace/.conda/envs/FYP/lib/site-packages/keras/utils/traceback_utils.py?line=65'>66</a>\u001b[0m   filtered_tb \u001b[39m=\u001b[39m _process_traceback_frames(e\u001b[39m.\u001b[39m__traceback__)\n\u001b[1;32m---> <a href='file:///c%3A/Users/grace/.conda/envs/FYP/lib/site-packages/keras/utils/traceback_utils.py?line=66'>67</a>\u001b[0m   \u001b[39mraise\u001b[39;00m e\u001b[39m.\u001b[39mwith_traceback(filtered_tb) \u001b[39mfrom\u001b[39;00m \u001b[39mNone\u001b[39m\n\u001b[0;32m     <a href='file:///c%3A/Users/grace/.conda/envs/FYP/lib/site-packages/keras/utils/traceback_utils.py?line=67'>68</a>\u001b[0m \u001b[39mfinally\u001b[39;00m:\n\u001b[0;32m     <a href='file:///c%3A/Users/grace/.conda/envs/FYP/lib/site-packages/keras/utils/traceback_utils.py?line=68'>69</a>\u001b[0m   \u001b[39mdel\u001b[39;00m filtered_tb\n",
      "File \u001b[1;32mc:\\Users\\grace\\.conda\\envs\\FYP\\lib\\site-packages\\tensorflow\\python\\framework\\func_graph.py:1147\u001b[0m, in \u001b[0;36mfunc_graph_from_py_func.<locals>.autograph_handler\u001b[1;34m(*args, **kwargs)\u001b[0m\n\u001b[0;32m   <a href='file:///c%3A/Users/grace/.conda/envs/FYP/lib/site-packages/tensorflow/python/framework/func_graph.py?line=1144'>1145</a>\u001b[0m \u001b[39mexcept\u001b[39;00m \u001b[39mException\u001b[39;00m \u001b[39mas\u001b[39;00m e:  \u001b[39m# pylint:disable=broad-except\u001b[39;00m\n\u001b[0;32m   <a href='file:///c%3A/Users/grace/.conda/envs/FYP/lib/site-packages/tensorflow/python/framework/func_graph.py?line=1145'>1146</a>\u001b[0m   \u001b[39mif\u001b[39;00m \u001b[39mhasattr\u001b[39m(e, \u001b[39m\"\u001b[39m\u001b[39mag_error_metadata\u001b[39m\u001b[39m\"\u001b[39m):\n\u001b[1;32m-> <a href='file:///c%3A/Users/grace/.conda/envs/FYP/lib/site-packages/tensorflow/python/framework/func_graph.py?line=1146'>1147</a>\u001b[0m     \u001b[39mraise\u001b[39;00m e\u001b[39m.\u001b[39mag_error_metadata\u001b[39m.\u001b[39mto_exception(e)\n\u001b[0;32m   <a href='file:///c%3A/Users/grace/.conda/envs/FYP/lib/site-packages/tensorflow/python/framework/func_graph.py?line=1147'>1148</a>\u001b[0m   \u001b[39melse\u001b[39;00m:\n\u001b[0;32m   <a href='file:///c%3A/Users/grace/.conda/envs/FYP/lib/site-packages/tensorflow/python/framework/func_graph.py?line=1148'>1149</a>\u001b[0m     \u001b[39mraise\u001b[39;00m\n",
      "\u001b[1;31mValueError\u001b[0m: in user code:\n\n    File \"c:\\Users\\grace\\.conda\\envs\\FYP\\lib\\site-packages\\keras\\engine\\training.py\", line 1021, in train_function  *\n        return step_function(self, iterator)\n    File \"c:\\Users\\grace\\.conda\\envs\\FYP\\lib\\site-packages\\keras\\engine\\training.py\", line 1010, in step_function  **\n        outputs = model.distribute_strategy.run(run_step, args=(data,))\n    File \"c:\\Users\\grace\\.conda\\envs\\FYP\\lib\\site-packages\\keras\\engine\\training.py\", line 1000, in run_step  **\n        outputs = model.train_step(data)\n    File \"c:\\Users\\grace\\.conda\\envs\\FYP\\lib\\site-packages\\keras\\engine\\training.py\", line 859, in train_step\n        y_pred = self(x, training=True)\n    File \"c:\\Users\\grace\\.conda\\envs\\FYP\\lib\\site-packages\\keras\\utils\\traceback_utils.py\", line 67, in error_handler\n        raise e.with_traceback(filtered_tb) from None\n    File \"c:\\Users\\grace\\.conda\\envs\\FYP\\lib\\site-packages\\keras\\engine\\input_spec.py\", line 264, in assert_input_compatibility\n        raise ValueError(f'Input {input_index} of layer \"{layer_name}\" is '\n\n    ValueError: Input 0 of layer \"BERT_multilabel\" is incompatible with the layer: expected shape=(None, 24), found shape=(20, 15)\n"
     ]
    }
   ],
   "source": [
    "for key, dataset in datasets.items():\n",
    "    history = bert(dataset[0], dataset[1])\n",
    "    \n",
    "    metrics = [[history.history['val_accuracy'][-1], history.history['val_loss'][-1]]]\n",
    "\n",
    "    histories.append(history)\n",
    "\n",
    "    print(key)\n",
    "    print(metrics)\n"
   ]
  },
  {
   "cell_type": "code",
   "execution_count": 11,
   "metadata": {},
   "outputs": [],
   "source": [
    "def bert_custom(df, d_labels):\n",
    "    tokenizer = BertTokenizerFast.from_pretrained(pretrained_model_name_or_path=model_name, config=config)\n",
    "\n",
    "    transformer_model = TFBertModel.from_pretrained(model_name, config = config)\n",
    "    \n",
    "    bert = transformer_model.layers[0]\n",
    "\n",
    "    input_ids = l.Input(shape=(15,), name=\"inputs\", dtype='int32')\n",
    "    inputs = {'input_ids': input_ids}\n",
    "\n",
    "    bert_model = bert(inputs)[1]\n",
    "\n",
    "    dropout = l.Dropout(config.hidden_dropout_prob, name='pooled_output')\n",
    "    pooled_output = dropout(bert_model, training=False)\n",
    "\n",
    "    category = l.Dense(\n",
    "        units=len(df.category.value_counts()),\n",
    "        kernel_initializer=TruncatedNormal(stddev=config.initializer_range),\n",
    "        name = 'category'\n",
    "        )(pooled_output)\n",
    "\n",
    "    outputs= {'category': category}\n",
    "    model = Model(inputs=inputs, outputs=outputs, name=\"BERT_multilabel\")\n",
    "\n",
    "    X_train, X_test = split_dataset(df)\n",
    "    Y_train, Y_test, n_classes = create_one_hot_labels(X_train['category'], X_test['category'], d_labels)\n",
    "\n",
    "    x = tokenizer(\n",
    "        text=X_train['item_name'].astype(str).to_list(),\n",
    "        add_special_tokens = True,\n",
    "        max_length = 15,\n",
    "        truncation = True,\n",
    "        padding = True,\n",
    "        return_tensors='tf',\n",
    "        return_token_type_ids = False,\n",
    "        return_attention_mask = False,\n",
    "        verbose=True\n",
    "    )\n",
    "\n",
    "    print(x)\n",
    "\n",
    "    optimizer = tf.keras.optimizers.Adam(\n",
    "        learning_rate=5e-05,\n",
    "        epsilon=1e-08,\n",
    "        decay=0.01,\n",
    "        clipnorm=1.0\n",
    "    )\n",
    "\n",
    "    loss = {'category': tf.keras.losses.CategoricalCrossentropy(from_logits = True)}\n",
    "    metric = {'category': tf.keras.metrics.CategoricalAccuracy('accuracy')}\n",
    "\n",
    "    model.compile(\n",
    "        optimizer = optimizer,\n",
    "        loss = loss, \n",
    "        metrics = metric\n",
    "    )\n",
    "\n",
    "    history = model.fit(\n",
    "        x={'input_ids': x['input_ids']},\n",
    "        y={'category': Y_train},\n",
    "        validation_split=0.2,\n",
    "        batch_size=20,\n",
    "        epochs=30\n",
    "    )\n",
    "\n",
    "    model.summary()\n",
    "    \n",
    "    return history"
   ]
  },
  {
   "cell_type": "code",
   "execution_count": 12,
   "metadata": {},
   "outputs": [
    {
     "name": "stderr",
     "output_type": "stream",
     "text": [
      "Some layers from the model checkpoint at bert-base-uncased were not used when initializing TFBertModel: ['nsp___cls', 'mlm___cls']\n",
      "- This IS expected if you are initializing TFBertModel from the checkpoint of a model trained on another task or with another architecture (e.g. initializing a BertForSequenceClassification model from a BertForPreTraining model).\n",
      "- This IS NOT expected if you are initializing TFBertModel from the checkpoint of a model that you expect to be exactly identical (initializing a BertForSequenceClassification model from a BertForSequenceClassification model).\n",
      "All the layers of TFBertModel were initialized from the model checkpoint at bert-base-uncased.\n",
      "If your task is similar to the task the model of the checkpoint was trained on, you can already use TFBertModel for predictions without further training.\n"
     ]
    },
    {
     "name": "stdout",
     "output_type": "stream",
     "text": [
      "{'input_ids': <tf.Tensor: shape=(526, 15), dtype=int32, numpy=\n",
      "array([[  101, 14380,  9648, ...,     0,     0,     0],\n",
      "       [  101, 20482, 11840, ...,     0,     0,     0],\n",
      "       [  101, 16480,  2278, ...,     0,     0,     0],\n",
      "       ...,\n",
      "       [  101, 10507,  7708, ...,     0,     0,     0],\n",
      "       [  101,  9781,  2006, ...,     0,     0,     0],\n",
      "       [  101,  6861, 15723, ...,     0,     0,     0]])>}\n",
      "Epoch 1/30\n",
      "21/21 [==============================] - 11s 146ms/step - loss: 1.8816 - accuracy: 0.5190 - val_loss: 1.8202 - val_accuracy: 0.5094\n",
      "Epoch 2/30\n",
      "21/21 [==============================] - 1s 69ms/step - loss: 1.5562 - accuracy: 0.5333 - val_loss: 1.6423 - val_accuracy: 0.5094\n",
      "Epoch 3/30\n",
      "21/21 [==============================] - 1s 70ms/step - loss: 1.3436 - accuracy: 0.5929 - val_loss: 1.4548 - val_accuracy: 0.5943\n",
      "Epoch 4/30\n",
      "21/21 [==============================] - 1s 70ms/step - loss: 1.0667 - accuracy: 0.7048 - val_loss: 1.2863 - val_accuracy: 0.6132\n",
      "Epoch 5/30\n",
      "21/21 [==============================] - 1s 70ms/step - loss: 0.7557 - accuracy: 0.7929 - val_loss: 1.2509 - val_accuracy: 0.6509\n",
      "Epoch 6/30\n",
      "21/21 [==============================] - 1s 70ms/step - loss: 0.5832 - accuracy: 0.8714 - val_loss: 1.1504 - val_accuracy: 0.7264\n",
      "Epoch 7/30\n",
      "21/21 [==============================] - 1s 70ms/step - loss: 0.4972 - accuracy: 0.8976 - val_loss: 1.1818 - val_accuracy: 0.7358\n",
      "Epoch 8/30\n",
      "21/21 [==============================] - 1s 69ms/step - loss: 0.4519 - accuracy: 0.9095 - val_loss: 1.0909 - val_accuracy: 0.7453\n",
      "Epoch 9/30\n",
      "21/21 [==============================] - 1s 69ms/step - loss: 0.3681 - accuracy: 0.9357 - val_loss: 1.1215 - val_accuracy: 0.7547\n",
      "Epoch 10/30\n",
      "21/21 [==============================] - 1s 69ms/step - loss: 0.3191 - accuracy: 0.9500 - val_loss: 1.0724 - val_accuracy: 0.7075\n",
      "Epoch 11/30\n",
      "21/21 [==============================] - 1s 69ms/step - loss: 0.2837 - accuracy: 0.9571 - val_loss: 1.1397 - val_accuracy: 0.7453\n",
      "Epoch 12/30\n",
      "21/21 [==============================] - 1s 70ms/step - loss: 0.2655 - accuracy: 0.9643 - val_loss: 1.1000 - val_accuracy: 0.7453\n",
      "Epoch 13/30\n",
      "21/21 [==============================] - 1s 70ms/step - loss: 0.2293 - accuracy: 0.9738 - val_loss: 1.1521 - val_accuracy: 0.7075\n",
      "Epoch 14/30\n",
      "21/21 [==============================] - 1s 70ms/step - loss: 0.2264 - accuracy: 0.9810 - val_loss: 1.1315 - val_accuracy: 0.7453\n",
      "Epoch 15/30\n",
      "21/21 [==============================] - 1s 70ms/step - loss: 0.1894 - accuracy: 0.9857 - val_loss: 1.1053 - val_accuracy: 0.7264\n",
      "Epoch 16/30\n",
      "21/21 [==============================] - 1s 70ms/step - loss: 0.1699 - accuracy: 0.9857 - val_loss: 1.1374 - val_accuracy: 0.7075\n",
      "Epoch 17/30\n",
      "21/21 [==============================] - 1s 70ms/step - loss: 0.1538 - accuracy: 0.9881 - val_loss: 1.1748 - val_accuracy: 0.7170\n",
      "Epoch 18/30\n",
      "21/21 [==============================] - 1s 70ms/step - loss: 0.1418 - accuracy: 0.9905 - val_loss: 1.1950 - val_accuracy: 0.7170\n",
      "Epoch 19/30\n",
      "21/21 [==============================] - 1s 70ms/step - loss: 0.1353 - accuracy: 0.9881 - val_loss: 1.2043 - val_accuracy: 0.7264\n",
      "Epoch 20/30\n",
      "21/21 [==============================] - 1s 70ms/step - loss: 0.1206 - accuracy: 0.9952 - val_loss: 1.2118 - val_accuracy: 0.7358\n",
      "Epoch 21/30\n",
      "21/21 [==============================] - 1s 70ms/step - loss: 0.1160 - accuracy: 0.9952 - val_loss: 1.2235 - val_accuracy: 0.7170\n",
      "Epoch 22/30\n",
      "21/21 [==============================] - 1s 70ms/step - loss: 0.1044 - accuracy: 0.9952 - val_loss: 1.2249 - val_accuracy: 0.7453\n",
      "Epoch 23/30\n",
      "21/21 [==============================] - 1s 70ms/step - loss: 0.1071 - accuracy: 0.9881 - val_loss: 1.2370 - val_accuracy: 0.7170\n",
      "Epoch 24/30\n",
      "21/21 [==============================] - 1s 70ms/step - loss: 0.0970 - accuracy: 0.9929 - val_loss: 1.2452 - val_accuracy: 0.7358\n",
      "Epoch 25/30\n",
      "21/21 [==============================] - 1s 70ms/step - loss: 0.0916 - accuracy: 0.9952 - val_loss: 1.2502 - val_accuracy: 0.7170\n",
      "Epoch 26/30\n",
      "21/21 [==============================] - 1s 70ms/step - loss: 0.0901 - accuracy: 0.9929 - val_loss: 1.2438 - val_accuracy: 0.7170\n",
      "Epoch 27/30\n",
      "21/21 [==============================] - 1s 70ms/step - loss: 0.0820 - accuracy: 0.9929 - val_loss: 1.2317 - val_accuracy: 0.7170\n",
      "Epoch 28/30\n",
      "21/21 [==============================] - 1s 70ms/step - loss: 0.0819 - accuracy: 0.9929 - val_loss: 1.2451 - val_accuracy: 0.7170\n",
      "Epoch 29/30\n",
      "21/21 [==============================] - 1s 69ms/step - loss: 0.0767 - accuracy: 0.9952 - val_loss: 1.2685 - val_accuracy: 0.7170\n",
      "Epoch 30/30\n",
      "21/21 [==============================] - 1s 71ms/step - loss: 0.0718 - accuracy: 0.9929 - val_loss: 1.3033 - val_accuracy: 0.7170\n",
      "Model: \"BERT_multilabel\"\n",
      "_________________________________________________________________\n",
      " Layer (type)                Output Shape              Param #   \n",
      "=================================================================\n",
      " inputs (InputLayer)         [(None, 15)]              0         \n",
      "                                                                 \n",
      " bert (TFBertMainLayer)      TFBaseModelOutputWithPoo  109482240 \n",
      "                             lingAndCrossAttentions(l            \n",
      "                             ast_hidden_state=(None,             \n",
      "                             15, 768),                           \n",
      "                              pooler_output=(None, 76            \n",
      "                             8),                                 \n",
      "                              past_key_values=None, h            \n",
      "                             idden_states=None, atten            \n",
      "                             tions=None, cross_attent            \n",
      "                             ions=None)                          \n",
      "                                                                 \n",
      " pooled_output (Dropout)     (None, 768)               0         \n",
      "                                                                 \n",
      " category (Dense)            (None, 17)                13073     \n",
      "                                                                 \n",
      "=================================================================\n",
      "Total params: 109,495,313\n",
      "Trainable params: 109,495,313\n",
      "Non-trainable params: 0\n",
      "_________________________________________________________________\n",
      "[[0.7169811129570007, 1.3033252954483032]]\n"
     ]
    }
   ],
   "source": [
    "history = bert_custom(datasets['custom'][0], datasets['custom'][1])\n",
    "    \n",
    "metrics = [[history.history['val_accuracy'][-1], history.history['val_loss'][-1]]]\n",
    "\n",
    "histories.append(history)\n",
    "\n",
    "print(metrics)"
   ]
  },
  {
   "cell_type": "markdown",
   "metadata": {},
   "source": [
    "# Graphs"
   ]
  },
  {
   "cell_type": "code",
   "execution_count": 14,
   "metadata": {},
   "outputs": [],
   "source": [
    "import matplotlib.pyplot as plt\n",
    "def train_val_graph(history, metric, name):\n",
    "    plt.plot(history.history[metric])\n",
    "    plt.plot(history.history['val_'+metric])\n",
    "\n",
    "    plt.title(f'History of {metric} over epochs ({name} dataset)')\n",
    "    plt.xlabel(\"Epochs\")\n",
    "    plt.ylabel(metric)\n",
    "    plt.legend(['training '+metric, 'validation '+metric])\n",
    "\n",
    "    plt.show()"
   ]
  },
  {
   "cell_type": "code",
   "execution_count": 23,
   "metadata": {},
   "outputs": [],
   "source": [
    "histories[0] = [histories[0], 'amazon']\n",
    "histories[1] = [histories[1], 'shopmania']"
   ]
  },
  {
   "cell_type": "code",
   "execution_count": 26,
   "metadata": {},
   "outputs": [
    {
     "data": {
      "image/png": "[encoded data removed]",
      "text/plain": [
       "<Figure size 432x288 with 1 Axes>"
      ]
     },
     "metadata": {
      "needs_background": "light"
     },
     "output_type": "display_data"
    },
    {
     "data": {
      "image/png": "[encoded data removed]",
      "text/plain": [
       "<Figure size 432x288 with 1 Axes>"
      ]
     },
     "metadata": {
      "needs_background": "light"
     },
     "output_type": "display_data"
    },
    {
     "data": {
      "image/png": "[encoded data removed]",
      "text/plain": [
       "<Figure size 432x288 with 1 Axes>"
      ]
     },
     "metadata": {
      "needs_background": "light"
     },
     "output_type": "display_data"
    },
    {
     "data": {
      "image/png": "[encoded data removed]",
      "text/plain": [
       "<Figure size 432x288 with 1 Axes>"
      ]
     },
     "metadata": {
      "needs_background": "light"
     },
     "output_type": "display_data"
    }
   ],
   "source": [
    "for history in histories:\n",
    "    train_val_graph(history[0], \"accuracy\", history[1])\n",
    "    train_val_graph(history[0], \"loss\", history[1])"
   ]
  },
  {
   "cell_type": "code",
   "execution_count": 15,
   "metadata": {},
   "outputs": [
    {
     "data": {
      "image/png": "[encoded data removed]",
      "text/plain": [
       "<Figure size 432x288 with 1 Axes>"
      ]
     },
     "metadata": {
      "needs_background": "light"
     },
     "output_type": "display_data"
    },
    {
     "data": {
      "image/png": "[encoded data removed]",
      "text/plain": [
       "<Figure size 432x288 with 1 Axes>"
      ]
     },
     "metadata": {
      "needs_background": "light"
     },
     "output_type": "display_data"
    }
   ],
   "source": [
    "train_val_graph(histories[0], \"accuracy\", 'custom')\n",
    "train_val_graph(histories[0], \"loss\", 'custom')"
   ]
  }
 ],
 "metadata": {
  "interpreter": {
   "hash": "f206b6c75a13f92bc97dfa1e930151b21df17184be9d9c72a2ae387f01f205b5"
  },
  "kernelspec": {
   "display_name": "Python 3.8.13 ('FYP')",
   "language": "python",
   "name": "python3"
  },
  "language_info": {
   "codemirror_mode": {
    "name": "ipython",
    "version": 3
   },
   "file_extension": ".py",
   "mimetype": "text/x-python",
   "name": "python",
   "nbconvert_exporter": "python",
   "pygments_lexer": "ipython3",
   "version": "3.8.13"
  },
  "orig_nbformat": 4
 },
 "nbformat": 4,
 "nbformat_minor": 2
}
