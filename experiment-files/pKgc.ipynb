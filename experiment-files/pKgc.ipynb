{
 "cells": [
  {
   "cell_type": "code",
   "execution_count": 1,
   "metadata": {},
   "outputs": [],
   "source": [
    "import numpy as np\n",
    "import tensorflow as tf\n",
    "import pickle\n",
    "import string\n",
    "import json\n",
    "import os\n",
    "\n",
    "from keras.models import load_model\n",
    "from keras.layers import TextVectorization\n",
    "\n",
    "model = load_model('final.h5')\n",
    "from_disk = pickle.load(open(\"vectorconfig.pkl\", \"rb\"))\n",
    "vectoriser = TextVectorization.from_config(from_disk['config'])\n",
    "\n",
    "vectoriser.adapt(tf.data.Dataset.from_tensor_slices([\"xyz\"])) # call adapt on dummy data\n",
    "vectoriser.set_weights(from_disk['weights'])\n",
    "\n",
    "from_disk = pickle.load(open(\"storeconfig.pkl\", \"rb\"))\n",
    "store_vectoriser = TextVectorization.from_config(from_disk['config'])\n",
    "\n",
    "store_vectoriser.adapt(tf.data.Dataset.from_tensor_slices([\"xyz\"])) # call adapt on dummy data\n",
    "store_vectoriser.set_weights(from_disk['weights'])\n",
    "\n",
    "encoder = pickle.load(open(\"encoder.pickle\", \"rb\"))"
   ]
  },
  {
   "cell_type": "code",
   "execution_count": 2,
   "metadata": {},
   "outputs": [],
   "source": [
    "folder_path = 'receipts'\n",
    "\n",
    "items = []\n",
    "stores = []\n",
    "\n",
    "for file in os.listdir(folder_path):\n",
    "    receipt_path = os.path.join(folder_path, file)\n",
    "\n",
    "    with open(receipt_path) as receipt_data:\n",
    "        receipt = json.load(receipt_data)\n",
    "\n",
    "    item_list = receipt['itemList'] + receipt['discountList']\n",
    "\n",
    "    for item in item_list:\n",
    "        items.append([item['itemName']])\n",
    "        stores.append([receipt['storeName']])"
   ]
  },
  {
   "cell_type": "code",
   "execution_count": 3,
   "metadata": {},
   "outputs": [],
   "source": [
    "def lower(product):\n",
    "    text = product[0]\n",
    "    result = \" \".join([word.lower() for word in text.split()])\n",
    "    return [result]\n",
    "\n",
    "def remove_punc_nums(product):\n",
    "    text = product[0]\n",
    "    remove = str.maketrans((string.punctuation + '£' + string.digits), ' '*len((string.punctuation + '£' + string.digits)))\n",
    "    return [text.translate(remove)]\n"
   ]
  },
  {
   "cell_type": "code",
   "execution_count": 4,
   "metadata": {},
   "outputs": [],
   "source": [
    "items = list(map(lower, items))\n",
    "items = list(map(remove_punc_nums, items))\n",
    "items = list(map(lower, items))"
   ]
  },
  {
   "cell_type": "code",
   "execution_count": 7,
   "metadata": {},
   "outputs": [
    {
     "name": "stdout",
     "output_type": "stream",
     "text": [
      "tesco grlc g, TESCO\n",
      "(groceries: 1.0 conf)\n",
      "yogurt, TESCO\n",
      "(groceries: 1.0 conf)\n",
      "tesco grlc g, TESCO\n",
      "(groceries: 1.0 conf)\n",
      "chicken drums, TESCO\n",
      "(groceries: 1.0 conf)\n",
      "f range eggs, TESCO\n",
      "(groceries: 1.0 conf)\n",
      "mullcdrspice, TESCO\n",
      "(groceries: 1.0 conf)\n",
      "dried yeast, TESCO\n",
      "(groceries: 0.991 conf)\n",
      "potatoes, TESCO\n",
      "(groceries: 1.0 conf)\n",
      "pork slices, TESCO\n",
      "(groceries: 1.0 conf)\n",
      "cafe latte, TESCO\n",
      "(drinks: 1.0 conf)\n",
      "cafe latte, TESCO\n",
      "(drinks: 1.0 conf)\n",
      "cafe latte, TESCO\n",
      "(drinks: 1.0 conf)\n",
      "cafe latte, TESCO\n",
      "(drinks: 1.0 conf)\n",
      "w g dan wht, TESCO\n",
      "(groceries: 1.0 conf)\n",
      "bread, TESCO\n",
      "(groceries: 1.0 conf)\n",
      "lamb chops, TESCO\n",
      "(groceries: 1.0 conf)\n",
      "lamb chops, TESCO\n",
      "(groceries: 1.0 conf)\n",
      "cc lamb chops, TESCO\n",
      "(groceries: 1.0 conf)\n",
      "cc lamb chops, TESCO\n",
      "(groceries: 1.0 conf)\n"
     ]
    }
   ],
   "source": [
    "product_string = tf.keras.Input(shape=(1,), dtype=\"string\")\n",
    "store_string = tf.keras.Input(shape=(1,), dtype=\"string\")\n",
    "\n",
    "x = vectoriser(product_string)\n",
    "x2 = store_vectoriser(store_string)\n",
    "\n",
    "class_names= encoder.classes_\n",
    "\n",
    "predictions = model([x, x2])\n",
    "\n",
    "\n",
    "e2e_model = tf.keras.Model([product_string, store_string], predictions)\n",
    "\n",
    "products_input = tf.convert_to_tensor(items)\n",
    "store_input = tf.convert_to_tensor(stores)\n",
    "\n",
    "categories = {}\n",
    "\n",
    "probabilities = e2e_model.predict([products_input, store_input])\n",
    "\n",
    "for i in tf.range(len(probabilities)):\n",
    "    if float('{0:.2f}'.format(np.max(probabilities[i]))) <0.5:\n",
    "        print(\"\\nBELOW 0.5 CONF\")\n",
    "        print(\"\"+products_input.numpy()[i][0].decode('UTF-8') + \", \" + store_input.numpy()[i][0].decode('UTF-8'))\n",
    "        print(\"(\" + class_names[np.argmax(probabilities[i])] + \": \" + str(float('{0:.3f}'.format(np.max(probabilities[i])))) + \")\\n\")\n",
    "    else:\n",
    "        print(products_input.numpy()[i][0].decode('UTF-8') + \", \" + store_input.numpy()[i][0].decode('UTF-8') + \"\\n(\" + class_names[np.argmax(probabilities[i])] + \": \" + str(float('{0:.3f}'.format(np.max(probabilities[i])))) + \" conf)\")\n",
    "        try:\n",
    "            categories[class_names[np.argmax(probabilities[i])]] += 1\n",
    "        except:\n",
    "            categories[class_names[np.argmax(probabilities[i])]] = 1"
   ]
  },
  {
   "cell_type": "code",
   "execution_count": 15,
   "metadata": {},
   "outputs": [
    {
     "data": {
      "text/plain": [
       "[15, 4]"
      ]
     },
     "execution_count": 15,
     "metadata": {},
     "output_type": "execute_result"
    }
   ],
   "source": [
    "list(categories.values())"
   ]
  },
  {
   "cell_type": "code",
   "execution_count": 18,
   "metadata": {},
   "outputs": [
    {
     "data": {
      "image/png": "[encoded data removed]",
      "text/plain": [
       "<Figure size 432x288 with 1 Axes>"
      ]
     },
     "metadata": {},
     "output_type": "display_data"
    }
   ],
   "source": [
    "import matplotlib.pyplot as plt\n",
    "\n",
    "# create data\n",
    "names = list(categories.keys())\n",
    "size_of_groups=list(categories.values())\n",
    "\n",
    "# Create a pieplot\n",
    "plt.pie(size_of_groups, labels=names)\n",
    "\n",
    "# add a circle at the center to transform it in a donut chart\n",
    "my_circle=plt.Circle( (0,0), 0.7, color='white')\n",
    "p=plt.gcf()\n",
    "p.gca().add_artist(my_circle)\n",
    "\n",
    "plt.show()"
   ]
  },
  {
   "cell_type": "code",
   "execution_count": 9,
   "metadata": {},
   "outputs": [
    {
     "data": {
      "text/plain": [
       "{'groceries': 15, 'drinks': 4}"
      ]
     },
     "execution_count": 9,
     "metadata": {},
     "output_type": "execute_result"
    }
   ],
   "source": [
    "categories"
   ]
  },
  {
   "cell_type": "code",
   "execution_count": null,
   "metadata": {},
   "outputs": [],
   "source": []
  }
 ],
 "metadata": {
  "interpreter": {
   "hash": "f206b6c75a13f92bc97dfa1e930151b21df17184be9d9c72a2ae387f01f205b5"
  },
  "kernelspec": {
   "display_name": "Python 3.8.13 ('FYP')",
   "language": "python",
   "name": "python3"
  },
  "language_info": {
   "codemirror_mode": {
    "name": "ipython",
    "version": 3
   },
   "file_extension": ".py",
   "mimetype": "text/x-python",
   "name": "python",
   "nbconvert_exporter": "python",
   "pygments_lexer": "ipython3",
   "version": "3.8.13"
  },
  "orig_nbformat": 4
 },
 "nbformat": 4,
 "nbformat_minor": 2
}
