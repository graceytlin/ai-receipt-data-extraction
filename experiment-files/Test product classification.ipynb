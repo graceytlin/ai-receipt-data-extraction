{
 "cells": [
  {
   "cell_type": "code",
   "execution_count": 1,
   "metadata": {},
   "outputs": [],
   "source": [
    "import numpy as np\n",
    "import tensorflow as tf\n",
    "import pickle\n",
    "\n",
    "from keras.models import load_model\n",
    "from keras.layers import TextVectorization\n",
    "\n",
    "model = load_model('final.h5')\n",
    "from_disk = pickle.load(open(\"vectorconfig.pkl\", \"rb\"))\n",
    "vectoriser = TextVectorization.from_config(from_disk['config'])\n",
    "\n",
    "vectoriser.adapt(tf.data.Dataset.from_tensor_slices([\"xyz\"])) # call adapt on dummy data\n",
    "vectoriser.set_weights(from_disk['weights'])\n",
    "\n",
    "from_disk = pickle.load(open(\"storeconfig.pkl\", \"rb\"))\n",
    "store_vectoriser = TextVectorization.from_config(from_disk['config'])\n",
    "\n",
    "store_vectoriser.adapt(tf.data.Dataset.from_tensor_slices([\"xyz\"])) # call adapt on dummy data\n",
    "store_vectoriser.set_weights(from_disk['weights'])\n",
    "\n",
    "encoder = pickle.load(open(\"encoder.pickle\", \"rb\"))"
   ]
  },
  {
   "cell_type": "code",
   "execution_count": 3,
   "metadata": {},
   "outputs": [
    {
     "data": {
      "text/plain": [
       "array(['alcohol', 'cleaning & laundry', 'clothes & accesories',\n",
       "       'clothes & accessories', 'drinks', 'eating out', 'electrical',\n",
       "       'entertainment', 'gardening', 'groceries', 'health & pharmacy',\n",
       "       'homeware', 'nicotine', 'other', 'personal hygiene', 'snacks'],\n",
       "      dtype=object)"
      ]
     },
     "execution_count": 3,
     "metadata": {},
     "output_type": "execute_result"
    }
   ],
   "source": [
    "encoder.classes_"
   ]
  },
  {
   "cell_type": "code",
   "execution_count": 24,
   "metadata": {},
   "outputs": [],
   "source": [
    "items = [\n",
    "    ['fried chicken'],\n",
    "    ['poems'],\n",
    "    ['biscuits'],\n",
    "    ['ice cream'],\n",
    "    ['conditioner'],\n",
    "    ['lemon tea'],\n",
    "    ['lemon iced tea'],\n",
    "    ['lemon ice tea'],\n",
    "    ['fried chicken'],\n",
    "    ['poems'],\n",
    "    ['biscuits'],\n",
    "    ['ice cream'],\n",
    "    ['vodka'],\n",
    "    ['lemon tea'],\n",
    "    ['lemon iced tea'],\n",
    "    ['lemon ice tea']\n",
    "    ]\n",
    "    \n",
    "stores = [\n",
    "    ['t4'],\n",
    "    ['waterstones'],\n",
    "    ['tesco'],\n",
    "    ['tesco'],\n",
    "    ['sainsburys'],\n",
    "    ['aldi'],\n",
    "    ['lidl'],\n",
    "    ['t4'],\n",
    "    ['tesco'],\n",
    "    ['tesco'],\n",
    "    ['sainsburys'],\n",
    "    ['asda'],\n",
    "    ['tesco'],\n",
    "    ['tesco'],\n",
    "    ['tesco'],\n",
    "    ['tesco']\n",
    "    ]"
   ]
  },
  {
   "cell_type": "code",
   "execution_count": 27,
   "metadata": {},
   "outputs": [
    {
     "name": "stdout",
     "output_type": "stream",
     "text": [
      "fried chicken, t4\n",
      "(eating out: 0.724 conf)\n",
      "\n",
      "BELOW 0.5 CONF\n",
      "poems, waterstones\n",
      "(eating out: 0.257)\n",
      "\n",
      "biscuits, tesco\n",
      "(groceries: 0.591 conf)\n",
      "ice cream, tesco\n",
      "(snacks: 1.0 conf)\n",
      "\n",
      "BELOW 0.5 CONF\n",
      "conditioner, sainsburys\n",
      "(personal hygiene: 0.401)\n",
      "\n",
      "lemon tea, aldi\n",
      "(drinks: 0.889 conf)\n",
      "lemon iced tea, lidl\n",
      "(drinks: 0.744 conf)\n",
      "lemon ice tea, t4\n",
      "(drinks: 0.556 conf)\n",
      "fried chicken, tesco\n",
      "(groceries: 0.843 conf)\n",
      "\n",
      "BELOW 0.5 CONF\n",
      "poems, tesco\n",
      "(groceries: 0.333)\n",
      "\n",
      "\n",
      "BELOW 0.5 CONF\n",
      "biscuits, sainsburys\n",
      "(groceries: 0.375)\n",
      "\n",
      "ice cream, asda\n",
      "(snacks: 0.998 conf)\n",
      "\n",
      "BELOW 0.5 CONF\n",
      "vodka, tesco\n",
      "(groceries: 0.333)\n",
      "\n",
      "lemon tea, tesco\n",
      "(drinks: 0.838 conf)\n",
      "lemon iced tea, tesco\n",
      "(drinks: 0.635 conf)\n",
      "lemon ice tea, tesco\n",
      "(drinks: 0.579 conf)\n"
     ]
    }
   ],
   "source": [
    "product_string = tf.keras.Input(shape=(1,), dtype=\"string\")\n",
    "store_string = tf.keras.Input(shape=(1,), dtype=\"string\")\n",
    "\n",
    "x = vectoriser(product_string)\n",
    "x2 = store_vectoriser(store_string)\n",
    "\n",
    "class_names= encoder.classes_\n",
    "\n",
    "predictions = model([x, x2])\n",
    "\n",
    "\n",
    "e2e_model = tf.keras.Model([product_string, store_string], predictions)\n",
    "\n",
    "products_input = tf.convert_to_tensor(items)\n",
    "store_input = tf.convert_to_tensor(stores)\n",
    "\n",
    "\n",
    "probabilities = e2e_model.predict([products_input, store_input])\n",
    "\n",
    "for i in tf.range(len(probabilities)):\n",
    "    if float('{0:.2f}'.format(np.max(probabilities[i]))) <0.5:\n",
    "        print(\"\\nBELOW 0.5 CONF\")\n",
    "        print(\"\"+products_input.numpy()[i][0].decode('UTF-8') + \", \" + store_input.numpy()[i][0].decode('UTF-8'))\n",
    "        print(\"(\" + class_names[np.argmax(probabilities[i])] + \": \" + str(float('{0:.3f}'.format(np.max(probabilities[i])))) + \")\\n\")\n",
    "    else:\n",
    "        print(products_input.numpy()[i][0].decode('UTF-8') + \", \" + store_input.numpy()[i][0].decode('UTF-8') + \"\\n(\" + class_names[np.argmax(probabilities[i])] + \": \" + str(float('{0:.3f}'.format(np.max(probabilities[i])))) + \" conf)\")"
   ]
  },
  {
   "cell_type": "code",
   "execution_count": null,
   "metadata": {},
   "outputs": [],
   "source": []
  }
 ],
 "metadata": {
  "interpreter": {
   "hash": "f206b6c75a13f92bc97dfa1e930151b21df17184be9d9c72a2ae387f01f205b5"
  },
  "kernelspec": {
   "display_name": "Python 3.8.13 ('FYP')",
   "language": "python",
   "name": "python3"
  },
  "language_info": {
   "codemirror_mode": {
    "name": "ipython",
    "version": 3
   },
   "file_extension": ".py",
   "mimetype": "text/x-python",
   "name": "python",
   "nbconvert_exporter": "python",
   "pygments_lexer": "ipython3",
   "version": "3.8.13"
  },
  "orig_nbformat": 4
 },
 "nbformat": 4,
 "nbformat_minor": 2
}
