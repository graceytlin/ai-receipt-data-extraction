{
 "cells": [
  {
   "cell_type": "code",
   "execution_count": 28,
   "metadata": {},
   "outputs": [],
   "source": [
    "from paddleocr import PaddleOCR, draw_ocr\n",
    "from easyocr import Reader\n",
    "import pytesseract\n",
    "from pytesseract import Output\n",
    "import os\n",
    "import cv2\n",
    "import matplotlib.pyplot as plt\n",
    "from PIL import Image\n"
   ]
  },
  {
   "cell_type": "code",
   "execution_count": 29,
   "metadata": {},
   "outputs": [
    {
     "name": "stdout",
     "output_type": "stream",
     "text": [
      "[2022/05/23 06:17:47] ppocr DEBUG: Namespace(help='==SUPPRESS==', use_gpu=True, ir_optim=True, use_tensorrt=False, min_subgraph_size=15, precision='fp32', gpu_mem=500, image_dir=None, det_algorithm='DB', det_model_dir='C:\\\\Users\\\\grace/.paddleocr/whl\\\\det\\\\en\\\\en_PP-OCRv3_det_infer', det_limit_side_len=960, det_limit_type='max', det_db_thresh=0.3, det_db_box_thresh=0.6, det_db_unclip_ratio=1.5, max_batch_size=10, use_dilation=False, det_db_score_mode='fast', det_east_score_thresh=0.8, det_east_cover_thresh=0.1, det_east_nms_thresh=0.2, det_sast_score_thresh=0.5, det_sast_nms_thresh=0.2, det_sast_polygon=False, det_pse_thresh=0, det_pse_box_thresh=0.85, det_pse_min_area=16, det_pse_box_type='quad', det_pse_scale=1, scales=[8, 16, 32], alpha=1.0, beta=1.0, fourier_degree=5, det_fce_box_type='poly', rec_algorithm='SVTR_LCNet', rec_model_dir='C:\\\\Users\\\\grace/.paddleocr/whl\\\\rec\\\\en\\\\en_PP-OCRv3_rec_infer', rec_image_shape='3, 48, 320', rec_batch_num=6, max_text_length=25, rec_char_dict_path='d:\\\\ProgramData\\\\Anaconda3\\\\envs\\\\ocr_env\\\\lib\\\\site-packages\\\\paddleocr\\\\ppocr\\\\utils\\\\en_dict.txt', use_space_char=True, vis_font_path='./doc/fonts/simfang.ttf', drop_score=0.5, e2e_algorithm='PGNet', e2e_model_dir=None, e2e_limit_side_len=768, e2e_limit_type='max', e2e_pgnet_score_thresh=0.5, e2e_char_dict_path='./ppocr/utils/ic15_dict.txt', e2e_pgnet_valid_set='totaltext', e2e_pgnet_mode='fast', use_angle_cls=False, cls_model_dir='C:\\\\Users\\\\grace/.paddleocr/whl\\\\cls\\\\ch_ppocr_mobile_v2.0_cls_infer', cls_image_shape='3, 48, 192', label_list=['0', '180'], cls_batch_num=6, cls_thresh=0.9, enable_mkldnn=False, cpu_threads=10, use_pdserving=False, warmup=False, draw_img_save_dir='./inference_results', save_crop_res=False, crop_res_save_dir='./output', use_mp=False, total_process_num=1, process_id=0, benchmark=False, save_log_path='./log_output/', show_log=True, use_onnx=False, output='./output', table_max_len=488, table_model_dir=None, table_char_dict_path=None, layout_path_model='lp://PubLayNet/ppyolov2_r50vd_dcn_365e_publaynet/config', layout_label_map=None, mode='structure', layout=True, table=True, ocr=True, lang='en', det=True, rec=True, type='ocr', ocr_version='PP-OCRv3', structure_version='PP-STRUCTURE')\n"
     ]
    }
   ],
   "source": [
    "paddlereader = PaddleOCR(lang='en')\n",
    "easyreader = Reader(['en'])\n",
    "pytesseract.pytesseract.tesseract_cmd = r'D:\\Program Files\\Tesseract-OCR\\tesseract.exe'"
   ]
  },
  {
   "cell_type": "code",
   "execution_count": 30,
   "metadata": {},
   "outputs": [],
   "source": [
    "img_dir = '../receipts/pictures'\n",
    "processed_dir = '../receipts/processed'\n",
    "result_dir = '../receipts/results'\n",
    "images = [os.path.splitext(filename)[0] for filename in os.listdir(img_dir)]\n",
    "preprocessed = [os.path.splitext(filename)[0] for filename in os.listdir(processed_dir)]"
   ]
  },
  {
   "cell_type": "code",
   "execution_count": null,
   "metadata": {},
   "outputs": [],
   "source": [
    "for image in images:\n",
    "    img_path = os.path.join(processed_dir, image + '.jpg')\n",
    "    result_path = os.path.join(processed_dir, image + '_easyocr.jpg')\n",
    "    text_path = os.path.join(processed_dir, image + '_easyocr.txt')\n",
    "\n",
    "    result = easyreader.readtext(img_path)\n",
    "\n",
    "    img = cv2.imread(img_path)\n",
    "    spacer = 100\n",
    "    font = cv2.FONT_HERSHEY_SIMPLEX\n",
    "\n",
    "    for detection in result: \n",
    "        top_left = tuple(detection[0][0])\n",
    "        bottom_right = tuple(detection[0][2])\n",
    "        text = detection[1]\n",
    "        try:\n",
    "            img = cv2.rectangle(img,top_left,bottom_right,(0,255,0),3)\n",
    "            spacer+=15\n",
    "        except:\n",
    "            pass\n",
    "\n",
    "    with open(text_path,'w') as f:\n",
    "        f.write(\"\\n\".join(str(item) for item in result))\n",
    "\n",
    "    plt.figure(figsize=(10,10))\n",
    "    plt.imshow(img)\n",
    "    plt.savefig(result_path)"
   ]
  },
  {
   "cell_type": "code",
   "execution_count": 31,
   "metadata": {},
   "outputs": [
    {
     "name": "stdout",
     "output_type": "stream",
     "text": [
      "[2022/05/23 06:18:02] ppocr DEBUG: dt_boxes num : 56, elapse : 0.18355035781860352\n",
      "[2022/05/23 06:18:02] ppocr DEBUG: rec_res num  : 56, elapse : 0.32607412338256836\n",
      "[2022/05/23 06:18:02] ppocr DEBUG: dt_boxes num : 20, elapse : 0.028759002685546875\n",
      "[2022/05/23 06:18:02] ppocr DEBUG: rec_res num  : 20, elapse : 0.03809046745300293\n",
      "[2022/05/23 06:18:03] ppocr DEBUG: dt_boxes num : 27, elapse : 0.02800607681274414\n",
      "[2022/05/23 06:18:03] ppocr DEBUG: rec_res num  : 27, elapse : 0.05117607116699219\n",
      "[2022/05/23 06:18:03] ppocr DEBUG: dt_boxes num : 27, elapse : 0.03000640869140625\n",
      "[2022/05/23 06:18:03] ppocr DEBUG: rec_res num  : 27, elapse : 0.049010515213012695\n",
      "[2022/05/23 06:18:03] ppocr DEBUG: dt_boxes num : 26, elapse : 0.030006885528564453\n",
      "[2022/05/23 06:18:03] ppocr DEBUG: rec_res num  : 26, elapse : 0.04801130294799805\n"
     ]
    }
   ],
   "source": [
    "for image in images:\n",
    "    img_path = os.path.join(processed_dir, image + '.jpg')\n",
    "    result_path = os.path.join(processed_dir, image + '_paddle.jpg')\n",
    "    text_path = os.path.join(processed_dir, image + '_paddle.txt')\n",
    "\n",
    "    result = paddlereader.ocr(img_path, cls=False)\n",
    "\n",
    "    with open(text_path,'w') as f:\n",
    "        f.write(\"\\n\".join(str(item) for item in result))\n",
    "\n",
    "    image = Image.open(img_path).convert('RGB')\n",
    "\n",
    "    boxes = [line[0] for line in result]\n",
    "    txts = [line[1][0] for line in result]\n",
    "    scores = [line[1][1] for line in result]\n",
    "    im_show = draw_ocr(image, boxes)\n",
    "\n",
    "    im_show = Image.fromarray(im_show)\n",
    "    im_show.save(result_path)"
   ]
  },
  {
   "cell_type": "code",
   "execution_count": 27,
   "metadata": {},
   "outputs": [],
   "source": [
    "for image in images:\n",
    "    img_path = os.path.join(processed_dir, image + '.jpg')\n",
    "    result_path = os.path.join(processed_dir, image + '_tesseract.jpg')\n",
    "    text_path = os.path.join(processed_dir, image + '_tesseract.txt')\n",
    "\n",
    "    img = cv2.imread(img_path)\n",
    "    h, w, _ = img.shape\n",
    "\n",
    "    d = pytesseract.image_to_data(img, output_type=Output.DATAFRAME)\n",
    "    boxes = []\n",
    "\n",
    "    d = d[d.conf != -1]\n",
    "    d = d[d.text != ' ']\n",
    "    d = d[d.text != '  ']\n",
    "\n",
    "    d.to_csv(text_path, header=0, index=0)\n",
    "\n",
    "    for i, row in d.iterrows():\n",
    "        x1 = row['left']\n",
    "        y1 = row['top']\n",
    "        x2 = row['left']+row['width']\n",
    "        y2 = y1\n",
    "        x3 = x2\n",
    "        y3 = row['top']+row['height']\n",
    "        x4 = x1\n",
    "        y4 = y3\n",
    "\n",
    "        boxes.append([x1,y1,x2,y2,x3,y3,x4,y4,row['text']])\n",
    "        (x, y, w, h) = (row['left'], row['top'], row['width'], row['height'])\n",
    "        cv2.rectangle(img, (x, y), (x + w, y + h), (0, 255, 0), 2)\n",
    "\n",
    "    cv2.imwrite(result_path, img)\n"
   ]
  },
  {
   "cell_type": "code",
   "execution_count": null,
   "metadata": {},
   "outputs": [],
   "source": []
  }
 ],
 "metadata": {
  "interpreter": {
   "hash": "408e81de9eeeb8935f556c0e004210cf98e7352eeb3cd72dba75a80655973dfe"
  },
  "kernelspec": {
   "display_name": "Python 3.9.12 ('ocr_env')",
   "language": "python",
   "name": "python3"
  },
  "language_info": {
   "codemirror_mode": {
    "name": "ipython",
    "version": 3
   },
   "file_extension": ".py",
   "mimetype": "text/x-python",
   "name": "python",
   "nbconvert_exporter": "python",
   "pygments_lexer": "ipython3",
   "version": "3.9.12"
  },
  "orig_nbformat": 4
 },
 "nbformat": 4,
 "nbformat_minor": 2
}
