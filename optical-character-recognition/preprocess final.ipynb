{
 "cells": [
  {
   "cell_type": "code",
   "execution_count": 1,
   "metadata": {},
   "outputs": [],
   "source": [
    "import numpy as np\n",
    "import cv2\n",
    "import matplotlib.pyplot as plt\n",
    "\n",
    "from skimage.filters import threshold_local\n",
    "import os"
   ]
  },
  {
   "cell_type": "code",
   "execution_count": 2,
   "metadata": {},
   "outputs": [],
   "source": [
    "img_dir = '../receipts/pictures'\n",
    "processed_dir = '../receipts/processed'\n",
    "result_dir = '../receipts/results'\n",
    "images = [os.path.splitext(filename)[0] for filename in os.listdir(img_dir)]\n",
    "preprocessed = [os.path.splitext(filename)[0] for filename in os.listdir(processed_dir)]"
   ]
  },
  {
   "cell_type": "code",
   "execution_count": 3,
   "metadata": {},
   "outputs": [],
   "source": [
    "def get_euler_distance(pt1, pt2):\n",
    "    return ((pt1[0] - pt2[0])**2 + (pt1[1] - pt2[1])**2)**0.5\n"
   ]
  },
  {
   "cell_type": "code",
   "execution_count": 43,
   "metadata": {},
   "outputs": [],
   "source": [
    "def opencv_resize(image, ratio):\n",
    "    width = int(image.shape[1] * ratio)\n",
    "    height = int(image.shape[0] * ratio)\n",
    "    dim = (width, height)\n",
    "    return cv2.resize(image, dim, interpolation = cv2.INTER_AREA)"
   ]
  },
  {
   "cell_type": "code",
   "execution_count": 58,
   "metadata": {},
   "outputs": [],
   "source": [
    "for image in images:\n",
    "\n",
    "    img_path = os.path.join(img_dir, image + '.jpg')\n",
    "    result_path = os.path.join(processed_dir, image + '.jpg')\n",
    "\n",
    "    # read, resize, and make a copy of the image\n",
    "    img = cv2.imread(img_path)\n",
    "    # orig_img = img.copy()\n",
    "\n",
    "    # resize_ratio = 500 / img.shape[0]\n",
    "\n",
    "    # image = opencv_resize(img, resize_ratio)\n",
    "\n",
    "    # # preprocess the image\n",
    "    # gray = cv2.cvtColor(image, cv2.COLOR_BGR2GRAY)\n",
    "    # blur = cv2.GaussianBlur(gray, (5, 5), 0)\n",
    "    # rectKernel = cv2.getStructuringElement(cv2.MORPH_RECT, (9, 9))\n",
    "    # dilated = cv2.dilate(blur, rectKernel)\n",
    "    # edged = cv2.Canny(dilated, 100, 50, apertureSize=3)\n",
    "\n",
    "    # # find and sort the contours\n",
    "    # contours, _ = cv2.findContours(edged, cv2.RETR_TREE, cv2.CHAIN_APPROX_SIMPLE)\n",
    "    # contours = sorted(contours, key=cv2.contourArea, reverse=True)    \n",
    "\n",
    "    # largestcountour = contour[0]\n",
    "    # # go through each contour\n",
    "    # for contour in contours:\n",
    "    #     # approximate each contour\n",
    "    #     peri = cv2.arcLength(contour, True)\n",
    "    #     approx = cv2.approxPolyDP(contour, 0.05 * peri, True)\n",
    "\n",
    "    #     # check if we have found our document\n",
    "    #     if len(approx) == 4 and cv2.contourArea(contour) > cv2.contourArea(largestcountour):\n",
    "    #         largestcountour = contour\n",
    "    #         doc_cnts = [approx.reshape(4,2)]\n",
    "   \n",
    "    # # apply warp perspective to get the top-down view\n",
    "    \n",
    "    # src_pts = np.array(doc_cnts, dtype=np.float32)\n",
    "\n",
    "    # width = get_euler_distance(src_pts[0][0], src_pts[0][1])\n",
    "    # height = get_euler_distance(src_pts[0][0], src_pts[0][3])\n",
    "\n",
    "    # dst_pts = np.array([[0, 0], [width, 0], [width, height], [0, height]], dtype=np.float32)\n",
    "\n",
    "    # M = cv2.getPerspectiveTransform(src_pts, dst_pts)\n",
    "    # warped = cv2.warpPerspective(image, M, (int(width), int(height)))\n",
    "    # rotate = cv2.rotate(warped, cv2.ROTATE_90_CLOCKWISE)\n",
    "    # flip = cv2.flip(rotate, 1)\n",
    "\n",
    "    warped = cv2.cvtColor(img, cv2.COLOR_BGR2GRAY)\n",
    "    # cv2.imshow(\"All contours\", warped)\n",
    "    # cv2.waitKey(0)\n",
    "    \n",
    "    thresh = cv2.adaptiveThreshold(warped,255,cv2.ADAPTIVE_THRESH_GAUSSIAN_C, cv2.THRESH_BINARY,25,15)\n",
    "\n",
    "    cv2.imwrite(result_path, thresh)"
   ]
  },
  {
   "cell_type": "code",
   "execution_count": null,
   "metadata": {},
   "outputs": [],
   "source": []
  }
 ],
 "metadata": {
  "interpreter": {
   "hash": "408e81de9eeeb8935f556c0e004210cf98e7352eeb3cd72dba75a80655973dfe"
  },
  "kernelspec": {
   "display_name": "Python 3.9.12 ('ocr_env')",
   "language": "python",
   "name": "python3"
  },
  "language_info": {
   "codemirror_mode": {
    "name": "ipython",
    "version": 3
   },
   "file_extension": ".py",
   "mimetype": "text/x-python",
   "name": "python",
   "nbconvert_exporter": "python",
   "pygments_lexer": "ipython3",
   "version": "3.9.12"
  },
  "orig_nbformat": 4
 },
 "nbformat": 4,
 "nbformat_minor": 2
}
