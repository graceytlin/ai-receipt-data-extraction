{
 "cells": [
  {
   "cell_type": "code",
   "execution_count": 1,
   "metadata": {},
   "outputs": [],
   "source": [
    "import cv2\n",
    "\n",
    "from PIL import Image"
   ]
  },
  {
   "cell_type": "code",
   "execution_count": 7,
   "metadata": {},
   "outputs": [],
   "source": [
    "file_name = 'Datasets\\SROIE2019\\images\\X00016469612.jpg'\n",
    "img = cv2.imread(file_name)"
   ]
  },
  {
   "cell_type": "code",
   "execution_count": 12,
   "metadata": {},
   "outputs": [],
   "source": [
    "bw = cv2.cvtColor(img, cv2.COLOR_BGR2GRAY)\n",
    "    \n",
    "thresh = cv2.adaptiveThreshold(bw,255,cv2.ADAPTIVE_THRESH_GAUSSIAN_C, cv2.THRESH_BINARY,11,15)"
   ]
  },
  {
   "cell_type": "code",
   "execution_count": 13,
   "metadata": {},
   "outputs": [
    {
     "data": {
      "text/plain": [
       "-1"
      ]
     },
     "execution_count": 13,
     "metadata": {},
     "output_type": "execute_result"
    }
   ],
   "source": [
    "cv2.imshow(\"Threshold\", thresh)\n",
    "cv2.waitKey(0)"
   ]
  },
  {
   "cell_type": "code",
   "execution_count": 15,
   "metadata": {},
   "outputs": [],
   "source": [
    "import os\n",
    "\n",
    "img_dir = 'Datasets/SROIE2019/images'\n",
    "result_dir = 'Datasets/SROIE2019/preprocessed'\n",
    "images = [os.path.splitext(filename)[0] for filename in os.listdir(img_dir)]"
   ]
  },
  {
   "cell_type": "code",
   "execution_count": 17,
   "metadata": {},
   "outputs": [
    {
     "name": "stdout",
     "output_type": "stream",
     "text": [
      "1 / 986\n",
      "51 / 986\n",
      "101 / 986\n",
      "151 / 986\n",
      "201 / 986\n",
      "251 / 986\n",
      "301 / 986\n",
      "351 / 986\n",
      "401 / 986\n",
      "451 / 986\n",
      "501 / 986\n",
      "551 / 986\n",
      "601 / 986\n",
      "651 / 986\n",
      "701 / 986\n",
      "751 / 986\n",
      "801 / 986\n",
      "851 / 986\n",
      "901 / 986\n",
      "951 / 986\n"
     ]
    }
   ],
   "source": [
    "for idx, image_name in enumerate(images):\n",
    "    if idx % 50 == 0:\n",
    "        print(idx+1,'/',len(images))\n",
    "        \n",
    "    img_path = os.path.join(img_dir, image_name + '.jpg')\n",
    "\n",
    "    image = cv2.imread(img_path)\n",
    "    \n",
    "    bw = cv2.cvtColor(image, cv2.COLOR_BGR2GRAY)\n",
    "    \n",
    "    thresh = cv2.adaptiveThreshold(bw,255,cv2.ADAPTIVE_THRESH_GAUSSIAN_C, cv2.THRESH_BINARY,11,15)\n",
    "\n",
    "    outpath = os.path.join(result_dir, image_name + '.jpg')\n",
    "    cv2.imwrite(outpath, thresh)"
   ]
  },
  {
   "cell_type": "code",
   "execution_count": null,
   "metadata": {},
   "outputs": [],
   "source": []
  }
 ],
 "metadata": {
  "interpreter": {
   "hash": "408e81de9eeeb8935f556c0e004210cf98e7352eeb3cd72dba75a80655973dfe"
  },
  "kernelspec": {
   "display_name": "Python 3.9.12 ('ocr_env')",
   "language": "python",
   "name": "python3"
  },
  "language_info": {
   "codemirror_mode": {
    "name": "ipython",
    "version": 3
   },
   "file_extension": ".py",
   "mimetype": "text/x-python",
   "name": "python",
   "nbconvert_exporter": "python",
   "pygments_lexer": "ipython3",
   "version": "3.9.12"
  },
  "orig_nbformat": 4
 },
 "nbformat": 4,
 "nbformat_minor": 2
}
